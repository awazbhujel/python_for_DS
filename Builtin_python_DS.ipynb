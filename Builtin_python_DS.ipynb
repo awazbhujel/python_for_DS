{
  "nbformat": 4,
  "nbformat_minor": 0,
  "metadata": {
    "colab": {
      "name": "Builtin python DS.ipynb",
      "provenance": [],
      "collapsed_sections": [],
      "authorship_tag": "ABX9TyPYFWcqz9A8WSv7/O1YVTYi"
    },
    "kernelspec": {
      "name": "python3",
      "display_name": "Python 3"
    },
    "language_info": {
      "name": "python"
    }
  },
  "cells": [
    {
      "cell_type": "markdown",
      "source": [
        "**Python Built-in Functions for Data Science**\n"
      ],
      "metadata": {
        "id": "bvhVlXGt7DoL"
      }
    },
    {
      "cell_type": "markdown",
      "source": [
        "1. print( ) function\n",
        "2. type( ) function\n",
        "3. input( ) function\n",
        "4. abs( ) function\n",
        "5. pow( ) function\n",
        "6. dir( ) function\n",
        "7. sorted( ) function\n",
        "8. max( ) function\n",
        "9. round( ) function\n",
        "10. divmod( ) function\n",
        "11. id( ) function\n",
        "12. ord( ) function\n",
        "13. len( ) function\n",
        "14. sum( ) function\n",
        "15. help( ) function etc,many more.."
      ],
      "metadata": {
        "id": "rY7W66Dh6rgM"
      }
    },
    {
      "cell_type": "markdown",
      "source": [
        "1. **Python Filter**\n",
        "\n"
      ],
      "metadata": {
        "id": "qMKFEit5tIkW"
      }
    },
    {
      "cell_type": "markdown",
      "source": [
        "The filter function is a python’s built-in function that you can use to iterate over the elements. It will return the items as per the defined condition."
      ],
      "metadata": {
        "id": "I26-xXLgtT3M"
      }
    },
    {
      "cell_type": "code",
      "execution_count": 1,
      "metadata": {
        "colab": {
          "base_uri": "https://localhost:8080/"
        },
        "id": "LXO5kSWQqkyA",
        "outputId": "28fd6560-13fb-4ff7-b67b-24d6c4394ce9"
      },
      "outputs": [
        {
          "output_type": "stream",
          "name": "stdout",
          "text": [
            "[2, 4, 6, 8, 10, 12]\n"
          ]
        }
      ],
      "source": [
        "#Filter\n",
        "my_list = [1,2,3,4,5,6,7,8,9,10,11,12,13]\n",
        "def even(number):\n",
        "  return number%2==0\n",
        "\n",
        "output = filter(even,my_list)\n",
        "print(list(output))\n"
      ]
    },
    {
      "cell_type": "code",
      "source": [
        "#another method to use filter\n",
        "my_list = [1,2,3,4,5,6,7,8,9,10,11,12,13]\n",
        "even_num = list(filter(lambda x:x%2==0,my_list))\n",
        "print(even_num)"
      ],
      "metadata": {
        "colab": {
          "base_uri": "https://localhost:8080/"
        },
        "id": "hR3_6gHSuA64",
        "outputId": "ece6b112-72f5-425b-da44-b26c73ad9818"
      },
      "execution_count": 2,
      "outputs": [
        {
          "output_type": "stream",
          "name": "stdout",
          "text": [
            "[2, 4, 6, 8, 10, 12]\n"
          ]
        }
      ]
    },
    {
      "cell_type": "markdown",
      "source": [
        " 2.Python Map"
      ],
      "metadata": {
        "id": "o6NlX9ccxAaH"
      }
    },
    {
      "cell_type": "markdown",
      "source": [
        "Python Map() function will take another function and an iterable object. It will return the elements which satisfy the given condition.\n"
      ],
      "metadata": {
        "id": "dcfD0oZDxJ8G"
      }
    },
    {
      "cell_type": "code",
      "source": [
        "#map\n",
        "num = [1,2,3,4,5,6,7,8,9,10]\n",
        "def mul(number):\n",
        "  return number*2\n",
        "\n",
        "multiply = map(mul,num)\n",
        "print(list(multiply))"
      ],
      "metadata": {
        "colab": {
          "base_uri": "https://localhost:8080/"
        },
        "id": "d6LzyU6euA-c",
        "outputId": "e9b1e484-dd9f-4d03-decd-8cea555a6b92"
      },
      "execution_count": 6,
      "outputs": [
        {
          "output_type": "stream",
          "name": "stdout",
          "text": [
            "[2, 4, 6, 8, 10, 12, 14, 16, 18, 20]\n"
          ]
        }
      ]
    },
    {
      "cell_type": "code",
      "source": [
        "#another way to use map\n",
        "product = list(map(lambda x:x*2,num))\n",
        "print(product)"
      ],
      "metadata": {
        "colab": {
          "base_uri": "https://localhost:8080/"
        },
        "id": "6XpmxTd-xj3g",
        "outputId": "336bde72-b292-4acc-e821-02ed2131834e"
      },
      "execution_count": 13,
      "outputs": [
        {
          "output_type": "stream",
          "name": "stdout",
          "text": [
            "[2, 4, 6, 8, 10, 12, 14, 16, 18, 20]\n"
          ]
        }
      ]
    },
    {
      "cell_type": "markdown",
      "source": [
        " 3. Isinstance()\n",
        "\n",
        " Isinsatnce() is a built-in python function that you can use to check if an element belongs to a specific class or not."
      ],
      "metadata": {
        "id": "eTkGboWgy8-i"
      }
    },
    {
      "cell_type": "code",
      "source": [
        "#Ininstance\n",
        "a = [\"awaz\",\"aman\",\"ram\"]\n",
        "b = (\"a\",\"b\",\"c\",\"d\",\"e\")\n",
        "c = {1:\"a\",2:\"b\"}\n",
        "print(isinstance(a,list))\n",
        "print(isinstance(b,tuple))\n",
        "print(isinstance(c,set)) #its dict btw"
      ],
      "metadata": {
        "colab": {
          "base_uri": "https://localhost:8080/"
        },
        "id": "BVlB865Wx-1D",
        "outputId": "dafb9814-174f-405d-aa5c-3d58f146203c"
      },
      "execution_count": 22,
      "outputs": [
        {
          "output_type": "stream",
          "name": "stdout",
          "text": [
            "True\n",
            "True\n",
            "False\n"
          ]
        }
      ]
    },
    {
      "cell_type": "markdown",
      "source": [
        "4. Python Round\n",
        "\n",
        "The Python round() function is used to round off the decimal numbers. It will be of great use when you working with data manipulation and calculations."
      ],
      "metadata": {
        "id": "kJyvxoVu24mC"
      }
    },
    {
      "cell_type": "code",
      "source": [
        "#Round\n",
        "num1 = 45.55645\n",
        "print(round(num1,3))\n",
        "num2 = 50.4542\n",
        "print(round(num2,2))\n",
        "pi = 3.1415926\n",
        "print(round(pi,1))"
      ],
      "metadata": {
        "colab": {
          "base_uri": "https://localhost:8080/"
        },
        "id": "z2vgf2oMxj7D",
        "outputId": "4b7c285e-6c4f-4b7d-a8e2-674921dcd636"
      },
      "execution_count": 29,
      "outputs": [
        {
          "output_type": "stream",
          "name": "stdout",
          "text": [
            "45.556\n",
            "50.45\n",
            "3.1\n"
          ]
        }
      ]
    },
    {
      "cell_type": "markdown",
      "source": [
        " 5.Python zip\n",
        "\n",
        " Python zip() is another python built-in function that can be used to assign different elements from different iterators."
      ],
      "metadata": {
        "id": "LPrl5i2Y3tBV"
      }
    },
    {
      "cell_type": "code",
      "source": [
        "#Zip #lists\n",
        "first_name = [\"awaz\",\"asmin\",\"manoj\",\"ram\"]\n",
        "last_name = [\"bhujel\",\"shiva\",\"kumar\",\"mandal\"]\n",
        "full_name = list(zip(first_name,last_name))\n",
        "print(full_name)"
      ],
      "metadata": {
        "colab": {
          "base_uri": "https://localhost:8080/"
        },
        "id": "hLHa9O0Wy8mX",
        "outputId": "3c03d691-34a1-41cf-e95e-a499d9efab07"
      },
      "execution_count": 36,
      "outputs": [
        {
          "output_type": "stream",
          "name": "stdout",
          "text": [
            "[('awaz', 'bhujel'), ('asmin', 'shiva'), ('manoj', 'kumar'), ('ram', 'mandal')]\n"
          ]
        }
      ]
    },
    {
      "cell_type": "markdown",
      "source": [
        ""
      ],
      "metadata": {
        "id": "dsMcc66z7TSQ"
      }
    },
    {
      "cell_type": "code",
      "source": [
        ""
      ],
      "metadata": {
        "colab": {
          "base_uri": "https://localhost:8080/",
          "height": 165
        },
        "id": "IRq6XqJd35tt",
        "outputId": "299bab46-26d7-4715-b444-8d2be1ba0398"
      },
      "execution_count": 38,
      "outputs": [
        {
          "output_type": "error",
          "ename": "AttributeError",
          "evalue": "ignored",
          "traceback": [
            "\u001b[0;31m---------------------------------------------------------------------------\u001b[0m",
            "\u001b[0;31mAttributeError\u001b[0m                            Traceback (most recent call last)",
            "\u001b[0;32m<ipython-input-38-cdfd3c4c5991>\u001b[0m in \u001b[0;36m<module>\u001b[0;34m()\u001b[0m\n\u001b[0;32m----> 1\u001b[0;31m \u001b[0mfull_name\u001b[0m\u001b[0;34m.\u001b[0m\u001b[0msplit\u001b[0m\u001b[0;34m(\u001b[0m\u001b[0;34m)\u001b[0m\u001b[0;34m\u001b[0m\u001b[0;34m\u001b[0m\u001b[0m\n\u001b[0m",
            "\u001b[0;31mAttributeError\u001b[0m: 'list' object has no attribute 'split'"
          ]
        }
      ]
    },
    {
      "cell_type": "markdown",
      "source": [
        "6.Sorted()"
      ],
      "metadata": {
        "id": "Ymmiy84I7emF"
      }
    },
    {
      "cell_type": "markdown",
      "source": [
        "The sorted() function returns a sorted list of the specified iterable object.\n",
        "\n",
        "You can specify the order to be either ascending or descending."
      ],
      "metadata": {
        "id": "I7AJHyyU7pw2"
      }
    },
    {
      "cell_type": "code",
      "source": [
        "tuple = (\"h\", \"b\", \"a\", \"c\", \"f\", \"d\", \"e\", \"g\")\n",
        "#sort in ascending order\n",
        "print(sorted(tuple))\n",
        "#sort in descending oder\n",
        "print(sorted(tuple,reverse=True))"
      ],
      "metadata": {
        "colab": {
          "base_uri": "https://localhost:8080/"
        },
        "id": "nBuMad4L35wP",
        "outputId": "b7bdc187-a4fd-481d-881e-62f2498aa7fc"
      },
      "execution_count": 40,
      "outputs": [
        {
          "output_type": "stream",
          "name": "stdout",
          "text": [
            "['a', 'b', 'c', 'd', 'e', 'f', 'g', 'h']\n",
            "['h', 'g', 'f', 'e', 'd', 'c', 'b', 'a']\n"
          ]
        }
      ]
    },
    {
      "cell_type": "markdown",
      "source": [
        "**abs( ) function**\n",
        "\n",
        "The abs() function returns the absolute value of the specified number.\n",
        "\n"
      ],
      "metadata": {
        "id": "chDQEXUE8W6g"
      }
    },
    {
      "cell_type": "code",
      "source": [
        "neg_no = -556\n",
        "print(abs(neg_no))\n",
        "#complex number\n",
        "print(abs(3+5j))"
      ],
      "metadata": {
        "colab": {
          "base_uri": "https://localhost:8080/"
        },
        "id": "s7eHIsAu35z2",
        "outputId": "4282edff-3fa9-4546-a5a4-bad57623c1a5"
      },
      "execution_count": 44,
      "outputs": [
        {
          "output_type": "stream",
          "name": "stdout",
          "text": [
            "556\n",
            "5.830951894845301\n"
          ]
        }
      ]
    },
    {
      "cell_type": "code",
      "source": [
        ""
      ],
      "metadata": {
        "id": "LWOq42uz8GB_"
      },
      "execution_count": null,
      "outputs": []
    },
    {
      "cell_type": "code",
      "source": [
        ""
      ],
      "metadata": {
        "id": "tltIMnj18Gut"
      },
      "execution_count": null,
      "outputs": []
    },
    {
      "cell_type": "code",
      "source": [
        ""
      ],
      "metadata": {
        "id": "9hpb8Y928GyZ"
      },
      "execution_count": null,
      "outputs": []
    }
  ]
}