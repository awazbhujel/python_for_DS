{
  "nbformat": 4,
  "nbformat_minor": 0,
  "metadata": {
    "colab": {
      "provenance": [],
      "authorship_tag": "ABX9TyP/PV6B4bd4bWKm9FrebMHA"
    },
    "kernelspec": {
      "name": "python3",
      "display_name": "Python 3"
    },
    "language_info": {
      "name": "python"
    }
  },
  "cells": [
    {
      "cell_type": "markdown",
      "source": [
        "**writing to a file**"
      ],
      "metadata": {
        "id": "kPvjIxzZKvgj"
      }
    },
    {
      "cell_type": "code",
      "execution_count": 9,
      "metadata": {
        "colab": {
          "base_uri": "https://localhost:8080/",
          "height": 200
        },
        "id": "d_xM7ToIKq02",
        "outputId": "3033118b-7651-454e-c326-a05a6250d10c"
      },
      "outputs": [
        {
          "output_type": "error",
          "ename": "ValueError",
          "evalue": "ignored",
          "traceback": [
            "\u001b[0;31m---------------------------------------------------------------------------\u001b[0m",
            "\u001b[0;31mValueError\u001b[0m                                Traceback (most recent call last)",
            "\u001b[0;32m<ipython-input-9-f36e3fccb51a>\u001b[0m in \u001b[0;36m<cell line: 5>\u001b[0;34m()\u001b[0m\n\u001b[1;32m      3\u001b[0m \u001b[0mf\u001b[0m\u001b[0;34m.\u001b[0m\u001b[0mwrite\u001b[0m\u001b[0;34m(\u001b[0m\u001b[0;34m'hello world'\u001b[0m\u001b[0;34m)\u001b[0m\u001b[0;34m\u001b[0m\u001b[0;34m\u001b[0m\u001b[0m\n\u001b[1;32m      4\u001b[0m \u001b[0mf\u001b[0m\u001b[0;34m.\u001b[0m\u001b[0mclose\u001b[0m\u001b[0;34m(\u001b[0m\u001b[0;34m)\u001b[0m\u001b[0;34m\u001b[0m\u001b[0;34m\u001b[0m\u001b[0m\n\u001b[0;32m----> 5\u001b[0;31m \u001b[0mf\u001b[0m\u001b[0;34m.\u001b[0m\u001b[0mwrite\u001b[0m\u001b[0;34m(\u001b[0m\u001b[0;34m'hello'\u001b[0m\u001b[0;34m)\u001b[0m\u001b[0;34m\u001b[0m\u001b[0;34m\u001b[0m\u001b[0m\n\u001b[0m",
            "\u001b[0;31mValueError\u001b[0m: I/O operation on closed file."
          ]
        }
      ],
      "source": [
        "#case1-if the file is not present\n",
        "f=open('sample.txt','w')\n",
        "f.write('hello world') \n",
        "f.close()\n",
        "#after closing the file we cannot write the text\n",
        "f.write('hello')"
      ]
    },
    {
      "cell_type": "code",
      "source": [
        "#write multiline strings\n",
        "f = open(\"sample1.txt\",\"w\")\n",
        "f.write(\"hello world\")\n",
        "f.write(\"\\nhow are you?\")\n",
        "f.close()"
      ],
      "metadata": {
        "id": "OZh0tBNVK23K"
      },
      "execution_count": 12,
      "outputs": []
    },
    {
      "cell_type": "code",
      "source": [
        "f = open(\"sample1.txt\",\"w\")\n",
        "f.write(\"salman khan\")\n",
        "f.close()"
      ],
      "metadata": {
        "id": "h4FBN0lzK26K"
      },
      "execution_count": 13,
      "outputs": []
    },
    {
      "cell_type": "code",
      "source": [
        "f = open(\"sample1.txt\",\"a\")\n",
        "f.write(\"\\nsalman bhai\")\n",
        "f.close()"
      ],
      "metadata": {
        "id": "pyusRssjK288"
      },
      "execution_count": 16,
      "outputs": []
    },
    {
      "cell_type": "code",
      "source": [
        "l = [\"hello\\n\",\"hi\\n\",\"how are you\\n\",\"ni am fine\"]\n",
        "f = open(\"sample1.txt\",\"w\")\n",
        "f.writelines(l)\n",
        "f.close()"
      ],
      "metadata": {
        "id": "WygVjtLKK3Av"
      },
      "execution_count": 4,
      "outputs": []
    },
    {
      "cell_type": "code",
      "source": [
        "f= open(\"sample1.txt\",\"r\")\n",
        "print(f.readline(),end=\"\")\n",
        "print(f.readline(),end=\"\")"
      ],
      "metadata": {
        "colab": {
          "base_uri": "https://localhost:8080/"
        },
        "id": "Pn5FPvZ5K3C6",
        "outputId": "69aca143-b6dd-43c8-c20d-a587066ba7d8"
      },
      "execution_count": 32,
      "outputs": [
        {
          "output_type": "stream",
          "name": "stdout",
          "text": [
            "hello\n",
            "hi\n"
          ]
        }
      ]
    },
    {
      "cell_type": "code",
      "source": [
        "#with\n",
        "with open(\"sample1.txt\",\"w\") as f:\n",
        "  f.write(\"salman bhai\")"
      ],
      "metadata": {
        "id": "hqw0XsaGK3Fk"
      },
      "execution_count": 33,
      "outputs": []
    },
    {
      "cell_type": "code",
      "source": [
        "with open(\"sample1.txt\",\"r\") as f:\n",
        "  print(f.read())"
      ],
      "metadata": {
        "colab": {
          "base_uri": "https://localhost:8080/"
        },
        "id": "GFGSYPXWK3I1",
        "outputId": "b304fd80-e842-453f-8813-342cad0ae1fe"
      },
      "execution_count": 35,
      "outputs": [
        {
          "output_type": "stream",
          "name": "stdout",
          "text": [
            "salman bhai\n"
          ]
        }
      ]
    },
    {
      "cell_type": "code",
      "source": [
        "big_l = [\"helloworld\" for i in range(1000)]\n",
        "with open(\"big.txt\",\"w\") as f:\n",
        "  f.writelines(big_l)"
      ],
      "metadata": {
        "id": "Rm7jAx2PK3Ll"
      },
      "execution_count": 2,
      "outputs": []
    },
    {
      "cell_type": "code",
      "source": [
        "with open(\"big.txt\",\"r\") as f:\n",
        "  chunk_size = 10\n",
        "  while len(f.read(chunk_size))>0:\n",
        "    print(f.read(chunk_size),end=\"***\")\n",
        "    f.read(chunk_size)"
      ],
      "metadata": {
        "colab": {
          "base_uri": "https://localhost:8080/"
        },
        "id": "ZKZ5Xb2dK3Oo",
        "outputId": "e1ba2ee6-7085-43fc-be05-22bc0fffbb7b"
      },
      "execution_count": 3,
      "outputs": [
        {
          "output_type": "stream",
          "name": "stdout",
          "text": [
            "helloworld***helloworld***helloworld***helloworld***helloworld***helloworld***helloworld***helloworld***helloworld***helloworld***helloworld***helloworld***helloworld***helloworld***helloworld***helloworld***helloworld***helloworld***helloworld***helloworld***helloworld***helloworld***helloworld***helloworld***helloworld***helloworld***helloworld***helloworld***helloworld***helloworld***helloworld***helloworld***helloworld***helloworld***helloworld***helloworld***helloworld***helloworld***helloworld***helloworld***helloworld***helloworld***helloworld***helloworld***helloworld***helloworld***helloworld***helloworld***helloworld***helloworld***helloworld***helloworld***helloworld***helloworld***helloworld***helloworld***helloworld***helloworld***helloworld***helloworld***helloworld***helloworld***helloworld***helloworld***helloworld***helloworld***helloworld***helloworld***helloworld***helloworld***helloworld***helloworld***helloworld***helloworld***helloworld***helloworld***helloworld***helloworld***helloworld***helloworld***helloworld***helloworld***helloworld***helloworld***helloworld***helloworld***helloworld***helloworld***helloworld***helloworld***helloworld***helloworld***helloworld***helloworld***helloworld***helloworld***helloworld***helloworld***helloworld***helloworld***helloworld***helloworld***helloworld***helloworld***helloworld***helloworld***helloworld***helloworld***helloworld***helloworld***helloworld***helloworld***helloworld***helloworld***helloworld***helloworld***helloworld***helloworld***helloworld***helloworld***helloworld***helloworld***helloworld***helloworld***helloworld***helloworld***helloworld***helloworld***helloworld***helloworld***helloworld***helloworld***helloworld***helloworld***helloworld***helloworld***helloworld***helloworld***helloworld***helloworld***helloworld***helloworld***helloworld***helloworld***helloworld***helloworld***helloworld***helloworld***helloworld***helloworld***helloworld***helloworld***helloworld***helloworld***helloworld***helloworld***helloworld***helloworld***helloworld***helloworld***helloworld***helloworld***helloworld***helloworld***helloworld***helloworld***helloworld***helloworld***helloworld***helloworld***helloworld***helloworld***helloworld***helloworld***helloworld***helloworld***helloworld***helloworld***helloworld***helloworld***helloworld***helloworld***helloworld***helloworld***helloworld***helloworld***helloworld***helloworld***helloworld***helloworld***helloworld***helloworld***helloworld***helloworld***helloworld***helloworld***helloworld***helloworld***helloworld***helloworld***helloworld***helloworld***helloworld***helloworld***helloworld***helloworld***helloworld***helloworld***helloworld***helloworld***helloworld***helloworld***helloworld***helloworld***helloworld***helloworld***helloworld***helloworld***helloworld***helloworld***helloworld***helloworld***helloworld***helloworld***helloworld***helloworld***helloworld***helloworld***helloworld***helloworld***helloworld***helloworld***helloworld***helloworld***helloworld***helloworld***helloworld***helloworld***helloworld***helloworld***helloworld***helloworld***helloworld***helloworld***helloworld***helloworld***helloworld***helloworld***helloworld***helloworld***helloworld***helloworld***helloworld***helloworld***helloworld***helloworld***helloworld***helloworld***helloworld***helloworld***helloworld***helloworld***helloworld***helloworld***helloworld***helloworld***helloworld***helloworld***helloworld***helloworld***helloworld***helloworld***helloworld***helloworld***helloworld***helloworld***helloworld***helloworld***helloworld***helloworld***helloworld***helloworld***helloworld***helloworld***helloworld***helloworld***helloworld***helloworld***helloworld***helloworld***helloworld***helloworld***helloworld***helloworld***helloworld***helloworld***helloworld***helloworld***helloworld***helloworld***helloworld***helloworld***helloworld***helloworld***helloworld***helloworld***helloworld***helloworld***helloworld***helloworld***helloworld***helloworld***helloworld***helloworld***helloworld***helloworld***helloworld***helloworld***helloworld***helloworld***helloworld***helloworld***helloworld***helloworld***helloworld***helloworld***helloworld***helloworld***helloworld***helloworld***helloworld***helloworld***helloworld******"
          ]
        }
      ]
    },
    {
      "cell_type": "code",
      "source": [
        "with open(\"sample1.txt\",\"r\") as f:\n",
        "  print(f.seek(10))\n",
        "  print(f.read())"
      ],
      "metadata": {
        "colab": {
          "base_uri": "https://localhost:8080/"
        },
        "id": "OZ9MHlzHK3Ry",
        "outputId": "a8b119ec-518e-4d70-f74e-fe255f781cbe"
      },
      "execution_count": 9,
      "outputs": [
        {
          "output_type": "stream",
          "name": "stdout",
          "text": [
            "10\n",
            "ow are you\n",
            "ni am fine\n"
          ]
        }
      ]
    },
    {
      "cell_type": "code",
      "source": [
        "with open(\"sample.txt\",\"w\") as f:\n",
        "  f.write(\"hello\")\n",
        "  f.seek(0)\n",
        "  f.write(\"x\")\n"
      ],
      "metadata": {
        "id": "ntuRW7VZetWg"
      },
      "execution_count": 11,
      "outputs": []
    },
    {
      "cell_type": "code",
      "source": [
        "#binary file\n",
        "with open(\"/content/messi.png\",\"rb\") as f:\n",
        "  with open(\"/content/messicopy.png\",\"wb\") as wf:\n",
        "    wf.write(f.read())"
      ],
      "metadata": {
        "id": "GR5I8Zk7etaH"
      },
      "execution_count": 12,
      "outputs": []
    },
    {
      "cell_type": "code",
      "source": [
        "with open(\"sample.txt\",\"w\") as f:\n",
        "  f.write(\"5\")"
      ],
      "metadata": {
        "id": "FaZq95RlK3VN"
      },
      "execution_count": 13,
      "outputs": []
    },
    {
      "cell_type": "code",
      "source": [
        "with open(\"sample.txt\",\"r\") as f:\n",
        "  print(f.read()+\"5\")"
      ],
      "metadata": {
        "colab": {
          "base_uri": "https://localhost:8080/"
        },
        "id": "GdyO1wWn1942",
        "outputId": "62d677b5-350f-4655-f8d3-2ac3524b9568"
      },
      "execution_count": 14,
      "outputs": [
        {
          "output_type": "stream",
          "name": "stdout",
          "text": [
            "55\n"
          ]
        }
      ]
    },
    {
      "cell_type": "code",
      "source": [
        "d = {\n",
        "    \"name\":\"Awaz\",\n",
        "    \"age\":33,\n",
        "     \"gender\":\"male\"\n",
        "}\n",
        "with open(\"sample.text\",\"w\") as f:\n",
        "  f.write(str(d))"
      ],
      "metadata": {
        "id": "MfxLk5sZ198O"
      },
      "execution_count": 18,
      "outputs": []
    },
    {
      "cell_type": "code",
      "source": [
        "with open(\"sample.text\",\"r\") as f:\n",
        "  print(f.read())\n",
        "  print(type(f.read()))"
      ],
      "metadata": {
        "colab": {
          "base_uri": "https://localhost:8080/"
        },
        "id": "L-CV36i119-g",
        "outputId": "78f8a08d-e400-458f-f4ca-7cc37be3e3df"
      },
      "execution_count": 19,
      "outputs": [
        {
          "output_type": "stream",
          "name": "stdout",
          "text": [
            "{'name': 'Awaz', 'age': 33, 'gender': 'male'}\n",
            "<class 'str'>\n"
          ]
        }
      ]
    },
    {
      "cell_type": "markdown",
      "source": [
        "**Serialization and Deserialization**\n",
        "\n",
        "**Serialization**: process of converting python data types to JSON Format\n",
        "\n",
        "**Deserialization**: process of converting JSON to python data types"
      ],
      "metadata": {
        "id": "tx02D7lm4JUt"
      }
    },
    {
      "cell_type": "markdown",
      "source": [
        "**what is JSON?**\n",
        "\n",
        "JSON (JavaScript Object Notation) is a lightweight data format used for storing and exchanging data between systems. It is a text-based format that is easy for humans to read and write, and is also easy for machines to parse and generate.\n",
        "\n",
        "JSON is often used as a data interchange format between web applications and servers, as it is supported by many programming languages and web frameworks. It is often used to represent complex data structures such as objects and arrays, and can be used to represent data of various types, including strings, numbers, and boolean values.\n",
        "\n",
        "JSON is similar to XML, another data interchange format, but is generally considered to be more lightweight and easier to read and write. It is also more widely used in modern web development.![sample-json.jpg](data:image/jpeg;base64,"
      ],
      "metadata": {
        "id": "cy7O-51o4tzZ"
      }
    },
    {
      "cell_type": "markdown",
      "source": [
        "![sample-json.jpg](data:image/jpeg;base64,/9j/4AAQSkZJRgABAQEAeAB4AAD/4RDmRXhpZgAATU0AKgAAAAgABAE7AAIAAAAJAAAISodpAAQAAAABAAAIVJydAAEAAAASAAAQzOocAAcAAAgMAAAAPgAAAAAc6gAAAAgAAAAAAAAAAAAAAAAAAAAAAAAAAAAAAAAAAAAAAAAAAAAAAAAAAAAAAAAAAAAAAAAAAAAAAAAAAAAAAAAAAAAAAAAAAAAAAAAAAAAAAAAAAAAAAAAAAAAAAAAAAAAAAAAAAAAAAAAAAAAAAAAAAAAAAAAAAAAAAAAAAAAAAAAAAAAAAAAAAAAAAAAAAAAAAAAAAAAAAAAAAAAAAAAAAAAAAAAAAAAAAAAAAAAAAAAAAAAAAAAAAAAAAAAAAAAAAAAAAAAAAAAAAAAAAAAAAAAAAAAAAAAAAAAAAAAAAAAAAAAAAAAAAAAAAAAAAAAAAAAAAAAAAAAAAAAAAAAAAAAAAAAAAAAAAAAAAAAAAAAAAAAAAAAAAAAAAAAAAAAAAAAAAAAAAAAAAAAAAAAAAAAAAAAAAAAAAAAAAAAAAAAAAAAAAAAAAAAAAAAAAAAAAAAAAAAAAAAAAAAAAAAAAAAAAAAAAAAAAAAAAAAAAAAAAAAAAAAAAAAAAAAAAAAAAAAAAAAAAAAAAAAAAAAAAAAAAAAAAAAAAAAAAAAAAAAAAAAAAAAAAAAAAAAAAAAAAAAAAAAAAAAAAAAAAAAAAAAAAAAAAAAAAAAAAAAAAAAAAAAAAAAAAAAAAAAAAAAAAAAAAAAAAAAAAAAAAAAAAAAAAAAAAAAAAAAAAAAAAAAAAAAAAAAAAAAAAAAAAAAAAAAAAAAAAAAAAAAAAAAAAAAAAAAAAAAAAAAAAAAAAAAAAAAAAAAAAAAAAAAAAAAAAAAAAAAAAAAAAAAAAAAAAAAAAAAAAAAAAAAAAAAAAAAAAAAAAAAAAAAAAAAAAAAAAAAAAAAAAAAAAAAAAAAAAAAAAAAAAAAAAAAAAAAAAAAAAAAAAAAAAAAAAAAAAAAAAAAAAAAAAAAAAAAAAAAAAAAAAAAAAAAAAAAAAAAAAAAAAAAAAAAAAAAAAAAAAAAAAAAAAAAAAAAAAAAAAAAAAAAAAAAAAAAAAAAAAAAAAAAAAAAAAAAAAAAAAAAAAAAAAAAAAAAAAAAAAAAAAAAAAAAAAAAAAAAAAAAAAAAAAAAAAAAAAAAAAAAAAAAAAAAAAAAAAAAAAAAAAAAAAAAAAAAAAAAAAAAAAAAAAAAAAAAAAAAAAAAAAAAAAAAAAAAAAAAAAAAAAAAAAAAAAAAAAAAAAAAAAAAAAAAAAAAAAAAAAAAAAAAAAAAAAAAAAAAAAAAAAAAAAAAAAAAAAAAAAAAAAAAAAAAAAAAAAAAAAAAAAAAAAAAAAAAAAAAAAAAAAAAAAAAAAAAAAAAAAAAAAAAAAAAAAAAAAAAAAAAAAAAAAAAAAAAAAAAAAAAAAAAAAAAAAAAAAAAAAAAAAAAAAAAAAAAAAAAAAAAAAAAAAAAAAAAAAAAAAAAAAAAAAAAAAAAAAAAAAAAAAAAAAAAAAAAAAAAAAAAAAAAAAAAAAAAAAAAAAAAAAAAAAAAAAAAAAAAAAAAAAAAAAAAAAAAAAAAAAAAAAAAAAAAAAAAAAAAAAAAAAAAAAAAAAAAAAAAAAAAAAAAAAAAAAAAAAAAAAAAAAAAAAAAAAAAAAAAAAAAAAAAAAAAAAAAAAAAAAAAAAAAAAAAAAAAAAAAAAAAAAAAAAAAAAAAAAAAAAAAAAAAAAAAAAAAAAAAAAAAAAAAAAAAAAAAAAAAAAAAAAAAAAAAAAAAAAAAAAAAAAAAAAAAAAAAAAAAAAAAAAAAAAAAAAAAAAAAAAAAAAAAAAAAAAAAAAAAAAAAAAAAAAAAAAAAAAAAAAAAAAAAAAAAAAAAAAAAAAAAAAAAAAAAAAAAAAAAAAAAAAAAAAAAAAAAAAAAAAAAAAAAAAAAAAAAAAAAAAAAAAAAAAAAAAAAAAAAAAAAAAAAAAAAAAAAAAAAAAAAAAAAAAAAAAAAAAAAAAAAAAAAAAAAAAAAAAAAAAAAAAAAAAAAAAAAAAAAAAAAAAAAAAAAAAAAAAAAAAAAAAAAAAAAAAAAAAAAAAAAAAAAAAAAAAAAAAAAAAAAAAAAAAAAAAAAAAAAAAAAAAAAAAAAAAAAAAAAAAAAAAAAAAAAAAAAAAAAAAAAAAAAAAAAAAAAAAAAAAAAAAAAAAAAAAAAAAAAAAAAAAAAAAAAAAAAAAAAAAAAAAAAAAAAAAAAAAAAAAAAAAAAAAAAAAAAAAAAAAAAAAAAAAAAAAAAAAAAAAAAAAAAAAAAAAAAAAAAAAAAAAAAAAAAAAAAAAAAAAAAAAAAAAAAAAAAAAAAAAAAAAAAAAAAAAAAAAAAAAAAAAAAAAAAAAAAAAAAAAAAAAAAAAAAAAAAAAAAAAAAAAAAAAAAAAAAAAAAAAAAAAAAAAAAAAAAAAAAAAAAAAAAAAAAAAAAAAAAAAAAAAAAAAAAAAAAAAAAAAAAAAAAAAAAAAAAAAAAAAAAAAAAAAAAAAAAAAAAAAAAAAAAAAAAAAAAAAAAAAAAAAAAAAAAAAAAAAAAAAAAAAAAAAAAAAAAAAAAAAAAAAAAAAAAAAAAAAAAAAAAAAAAAAAAAAAAAAAAAAAAAAAAAAAAAAAAAAAAAAAAAAAAAAAAAAAAAAAAAAAAAAAAAAAAAAAAAAAAAAAAAAAAAAAAAAAAAAAAAAAAAAAAAAAAAAAAAAAAAAAAAAAAAAAAAAAAAAAAAAAAAAAAAAAAAAAAAAAAAAAAAAAAAAAAAAAAAAAAAAAAAAAAAAAAAAAAAAAAAAAAAAAAAAAAAAAAAAAAAAAAAAEFtbWFBcHBhAAAABZADAAIAAAAUAAAQopAEAAIAAAAUAAAQtpKRAAIAAAADOTgAAJKSAAIAAAADOTgAAOocAAcAAAgMAAAIlgAAAAAc6gAAAAgAAAAAAAAAAAAAAAAAAAAAAAAAAAAAAAAAAAAAAAAAAAAAAAAAAAAAAAAAAAAAAAAAAAAAAAAAAAAAAAAAAAAAAAAAAAAAAAAAAAAAAAAAAAAAAAAAAAAAAAAAAAAAAAAAAAAAAAAAAAAAAAAAAAAAAAAAAAAAAAAAAAAAAAAAAAAAAAAAAAAAAAAAAAAAAAAAAAAAAAAAAAAAAAAAAAAAAAAAAAAAAAAAAAAAAAAAAAAAAAAAAAAAAAAAAAAAAAAAAAAAAAAAAAAAAAAAAAAAAAAAAAAAAAAAAAAAAAAAAAAAAAAAAAAAAAAAAAAAAAAAAAAAAAAAAAAAAAAAAAAAAAAAAAAAAAAAAAAAAAAAAAAAAAAAAAAAAAAAAAAAAAAAAAAAAAAAAAAAAAAAAAAAAAAAAAAAAAAAAAAAAAAAAAAAAAAAAAAAAAAAAAAAAAAAAAAAAAAAAAAAAAAAAAAAAAAAAAAAAAAAAAAAAAAAAAAAAAAAAAAAAAAAAAAAAAAAAAAAAAAAAAAAAAAAAAAAAAAAAAAAAAAAAAAAAAAAAAAAAAAAAAAAAAAAAAAAAAAAAAAAAAAAAAAAAAAAAAAAAAAAAAAAAAAAAAAAAAAAAAAAAAAAAAAAAAAAAAAAAAAAAAAAAAAAAAAAAAAAAAAAAAAAAAAAAAAAAAAAAAAAAAAAAAAAAAAAAAAAAAAAAAAAAAAAAAAAAAAAAAAAAAAAAAAAAAAAAAAAAAAAAAAAAAAAAAAAAAAAAAAAAAAAAAAAAAAAAAAAAAAAAAAAAAAAAAAAAAAAAAAAAAAAAAAAAAAAAAAAAAAAAAAAAAAAAAAAAAAAAAAAAAAAAAAAAAAAAAAAAAAAAAAAAAAAAAAAAAAAAAAAAAAAAAAAAAAAAAAAAAAAAAAAAAAAAAAAAAAAAAAAAAAAAAAAAAAAAAAAAAAAAAAAAAAAAAAAAAAAAAAAAAAAAAAAAAAAAAAAAAAAAAAAAAAAAAAAAAAAAAAAAAAAAAAAAAAAAAAAAAAAAAAAAAAAAAAAAAAAAAAAAAAAAAAAAAAAAAAAAAAAAAAAAAAAAAAAAAAAAAAAAAAAAAAAAAAAAAAAAAAAAAAAAAAAAAAAAAAAAAAAAAAAAAAAAAAAAAAAAAAAAAAAAAAAAAAAAAAAAAAAAAAAAAAAAAAAAAAAAAAAAAAAAAAAAAAAAAAAAAAAAAAAAAAAAAAAAAAAAAAAAAAAAAAAAAAAAAAAAAAAAAAAAAAAAAAAAAAAAAAAAAAAAAAAAAAAAAAAAAAAAAAAAAAAAAAAAAAAAAAAAAAAAAAAAAAAAAAAAAAAAAAAAAAAAAAAAAAAAAAAAAAAAAAAAAAAAAAAAAAAAAAAAAAAAAAAAAAAAAAAAAAAAAAAAAAAAAAAAAAAAAAAAAAAAAAAAAAAAAAAAAAAAAAAAAAAAAAAAAAAAAAAAAAAAAAAAAAAAAAAAAAAAAAAAAAAAAAAAAAAAAAAAAAAAAAAAAAAAAAAAAAAAAAAAAAAAAAAAAAAAAAAAAAAAAAAAAAAAAAAAAAAAAAAAAAAAAAAAAAAAAAAAAAAAAAAAAAAAAAAAAAAAAAAAAAAAAAAAAAAAAAAAAAAAAAAAAAAAAAAAAAAAAAAAAAAAAAAAAAAAAAAAAAAAAAAAAAAAAAAAAAAAAAAAAAAAAAAAAAAAAAAAAAAAAAAAAAAAAAAAAAAAAAAAAAAAAAAAAAAAAAAAAAAAAAAAAAAAAAAAAAAAAAAAAAAAAAAAAAAAAAAAAAAAAAAAAAAAAAAAAAAAAAAAAAAAAAAAAAAAAAAAAAAAAAAAAAAAAAAAAAAAAAAAAAAAAAAAAAAAAAAAAAAAAAAAAAAAAAAAAAAAAAAAAAAAAAAAAAAAAAAAAAAAAAAAAAAAAAAAAAAAAAAAAAAAAAAAAAAAAAAAAAAAAAAAAAAAAAAAAAAAAAAAAAAAAAAAAAAAAAAAAAAAAAAAAAAAAAAAAAAAAAAAAAAAAAAAAAAAAAAAAAAAAAAAAAAAAAAAAAAAAAAAAAAAAAAAAAAAAAAAAAAAAAAAAAAAAAAAAAAAAAAAAAAAAAAAAAAAAAAAAAAAAAAAAAAAAAAAAAAAAAAAAAAAAAAAAAAAAAAAAAAAAAAAAAAAAAAAAAAAAAAAAAAAAAAAAAAAAAAAAAAAAAAAAAAAAAAAAAAAAAAAAAAAAAAAAAAAAAAAAAAAAAAAAAAAAAAAAAAAAAAAAAAAAAAAAAAAAAAAAAAAAAAAAAAAAAAAAAAAAAAAAAAAAAAAAAAAAAAAAAAAAAAAAAAAAAAAAAAAAAAAAAAAAAAAAAAAAAAAAAAAAAAAAAAAAAAAAAAAAAAAAAAAAAAAAAAAAAAAAAAAAAAAAAAAAAAAAAAAAAAAAAAAAAAAAAAAAAAAAAAAAAAAAAAAAAAAAAAAAAAAAAAAAAAAAAAAAAAAAAAAAAAAAAAAAAAAAAAAAAAAAAAAAAAAAAAAAAAAAAAAAAAAAAAAAAAAAAAAAAAAAAAAAAAAAAAAAAAAAAAAAAAAAAAAAAAAAAAAAAAAAAAAAAAAAAAAAAAAAAAAAAAAAAAAAAAAAAAAAAAAAAAAAAAAAAAAAAAAAAAAAAAAAAAAAAAAAAAAAAAAAAAAAAAAAAAAAAAAAAAAAAAAAAAAAAAAAAAAAAAAAAAAAAAAAAAAAAAAAAAAAAAAAAAAAAAAAAAAAAAAAAAAAAAAAAAAAAAAAAAAAAAAAAAADIwMjA6MDU6MjYgMTU6MTk6MDAAMjAyMDowNToyNiAxNToxOTowMAAAAEEAbQBtAGEAQQBwAHAAYQAAAP/hCxtodHRwOi8vbnMuYWRvYmUuY29tL3hhcC8xLjAvADw/eHBhY2tldCBiZWdpbj0n77u/JyBpZD0nVzVNME1wQ2VoaUh6cmVTek5UY3prYzlkJz8+DQo8eDp4bXBtZXRhIHhtbG5zOng9ImFkb2JlOm5zOm1ldGEvIj48cmRmOlJERiB4bWxuczpyZGY9Imh0dHA6Ly93d3cudzMub3JnLzE5OTkvMDIvMjItcmRmLXN5bnRheC1ucyMiPjxyZGY6RGVzY3JpcHRpb24gcmRmOmFib3V0PSJ1dWlkOmZhZjViZGQ1LWJhM2QtMTFkYS1hZDMxLWQzM2Q3NTE4MmYxYiIgeG1sbnM6ZGM9Imh0dHA6Ly9wdXJsLm9yZy9kYy9lbGVtZW50cy8xLjEvIi8+PHJkZjpEZXNjcmlwdGlvbiByZGY6YWJvdXQ9InV1aWQ6ZmFmNWJkZDUtYmEzZC0xMWRhLWFkMzEtZDMzZDc1MTgyZjFiIiB4bWxuczp4bXA9Imh0dHA6Ly9ucy5hZG9iZS5jb20veGFwLzEuMC8iPjx4bXA6Q3JlYXRlRGF0ZT4yMDIwLTA1LTI2VDE1OjE5OjAwLjk4NDwveG1wOkNyZWF0ZURhdGU+PC9yZGY6RGVzY3JpcHRpb24+PHJkZjpEZXNjcmlwdGlvbiByZGY6YWJvdXQ9InV1aWQ6ZmFmNWJkZDUtYmEzZC0xMWRhLWFkMzEtZDMzZDc1MTgyZjFiIiB4bWxuczpkYz0iaHR0cDovL3B1cmwub3JnL2RjL2VsZW1lbnRzLzEuMS8iPjxkYzpjcmVhdG9yPjxyZGY6U2VxIHhtbG5zOnJkZj0iaHR0cDovL3d3dy53My5vcmcvMTk5OS8wMi8yMi1yZGYtc3ludGF4LW5zIyI+PHJkZjpsaT5BbW1hQXBwYTwvcmRmOmxpPjwvcmRmOlNlcT4NCgkJCTwvZGM6Y3JlYXRvcj48L3JkZjpEZXNjcmlwdGlvbj48L3JkZjpSREY+PC94OnhtcG1ldGE+DQogICAgICAgICAgICAgICAgICAgICAgICAgICAgICAgICAgICAgICAgICAgICAgICAgICAgICAgICAgICAgICAgICAgICAgICAgICAgICAgICAgICAgICAgICAgICAgICAgICAgCiAgICAgICAgICAgICAgICAgICAgICAgICAgICAgICAgICAgICAgICAgICAgICAgICAgICAgICAgICAgICAgICAgICAgICAgICAgICAgICAgICAgICAgICAgICAgICAgICAgICAKICAgICAgICAgICAgICAgICAgICAgICAgICAgICAgICAgICAgICAgICAgICAgICAgICAgICAgICAgICAgICAgICAgICAgICAgICAgICAgICAgICAgICAgICAgICAgICAgICAgIAogICAgICAgICAgICAgICAgICAgICAgICAgICAgICAgICAgICAgICAgICAgICAgICAgICAgICAgICAgICAgICAgICAgICAgICAgICAgICAgICAgICAgICAgICAgICAgICAgICAgCiAgICAgICAgICAgICAgICAgICAgICAgICAgICAgICAgICAgICAgICAgICAgICAgICAgICAgICAgICAgICAgICAgICAgICAgICAgICAgICAgICAgICAgICAgICAgICAgICAgICAKICAgICAgICAgICAgICAgICAgICAgICAgICAgICAgICAgICAgICAgICAgICAgICAgICAgICAgICAgICAgICAgICAgICAgICAgICAgICAgICAgICAgICAgICAgICAgICAgICAgIAogICAgICAgICAgICAgICAgICAgICAgICAgICAgICAgICAgICAgICAgICAgICAgICAgICAgICAgICAgICAgICAgICAgICAgICAgICAgICAgICAgICAgICAgICAgICAgICAgICAgCiAgICAgICAgICAgICAgICAgICAgICAgICAgICAgICAgICAgICAgICAgICAgICAgICAgICAgICAgICAgICAgICAgICAgICAgICAgICAgICAgICAgICAgICAgICAgICAgICAgICAKICAgICAgICAgICAgICAgICAgICAgICAgICAgICAgICAgICAgICAgICAgICAgICAgICAgICAgICAgICAgICAgICAgICAgICAgICAgICAgICAgICAgICAgICAgICAgICAgICAgIAogICAgICAgICAgICAgICAgICAgICAgICAgICAgICAgICAgICAgICAgICAgICAgICAgICAgICAgICAgICAgICAgICAgICAgICAgICAgICAgICAgICAgICAgICAgICAgICAgICAgCiAgICAgICAgICAgICAgICAgICAgICAgICAgICAgICAgICAgICAgICAgICAgICAgICAgICAgICAgICAgICAgICAgICAgICAgICAgICAgICAgICAgICAgICAgICAgICAgICAgICAKICAgICAgICAgICAgICAgICAgICAgICAgICAgICAgICAgICAgICAgICAgICAgICAgICAgICAgICAgICAgICAgICAgICAgICAgICAgICAgICAgICAgICAgICAgICAgICAgICAgIAogICAgICAgICAgICAgICAgICAgICAgICAgICAgICAgICAgICAgICAgICAgICAgICAgICAgICAgICAgICAgICAgICAgICAgICAgICAgICAgICAgICAgICAgICAgICAgICAgICAgCiAgICAgICAgICAgICAgICAgICAgICAgICAgICAgICAgICAgICAgICAgICAgICAgICAgICAgICAgICAgICAgICAgICAgICAgICAgICAgICAgICAgICAgICAgICAgICAgICAgICAKICAgICAgICAgICAgICAgICAgICAgICAgICAgICAgICAgICAgICAgICAgICAgICAgICAgICAgICAgICAgICAgICAgICAgICAgICAgICAgICAgICAgICAgICAgICAgICAgICAgIAogICAgICAgICAgICAgICAgICAgICAgICAgICAgICAgICAgICAgICAgICAgICAgICAgICAgICAgICAgICAgICAgICAgICAgICAgICAgICAgICAgICAgICAgICAgICAgICAgICAgCiAgICAgICAgICAgICAgICAgICAgICAgICAgICAgICAgICAgICAgICAgICAgICAgICAgICAgICAgICAgICAgICAgICAgICAgICAgICAgICAgICAgICAgICAgICAgICAgICAgICAKICAgICAgICAgICAgICAgICAgICAgICAgICAgICAgICAgICAgICAgICAgICAgICAgICAgICAgICAgICAgICAgICAgICAgICAgICAgICAgICAgICAgICAgICAgICAgICAgICAgIAogICAgICAgICAgICAgICAgICAgICAgICAgICAgICAgICAgICAgICAgICAgICAgICAgICAgICAgICAgICAgICAgICAgICAgICAgICAgICAgICAgICAgICAgICAgICAgICAgICAgCiAgICAgICAgICAgICAgICAgICAgICAgICAgICAgICAgICAgICAgICAgICAgICAgICAgICAgICAgICAgICAgICAgICAgICAgICAgICAgICAgICAgICAgICAgICAgICAgICAgICAKICAgICAgICAgICAgICAgICAgICAgICAgICAgIDw/eHBhY2tldCBlbmQ9J3cnPz7/2wBDAAcFBQYFBAcGBQYIBwcIChELCgkJChUPEAwRGBUaGRgVGBcbHichGx0lHRcYIi4iJSgpKywrGiAvMy8qMicqKyr/2wBDAQcICAoJChQLCxQqHBgcKioqKioqKioqKioqKioqKioqKioqKioqKioqKioqKioqKioqKioqKioqKioqKioqKir/wAARCADzAfMDASIAAhEBAxEB/8QAHwAAAQUBAQEBAQEAAAAAAAAAAAECAwQFBgcICQoL/8QAtRAAAgEDAwIEAwUFBAQAAAF9AQIDAAQRBRIhMUEGE1FhByJxFDKBkaEII0KxwRVS0fAkM2JyggkKFhcYGRolJicoKSo0NTY3ODk6Q0RFRkdISUpTVFVWV1hZWmNkZWZnaGlqc3R1dnd4eXqDhIWGh4iJipKTlJWWl5iZmqKjpKWmp6ipqrKztLW2t7i5usLDxMXGx8jJytLT1NXW19jZ2uHi4+Tl5ufo6erx8vP09fb3+Pn6/8QAHwEAAwEBAQEBAQEBAQAAAAAAAAECAwQFBgcICQoL/8QAtREAAgECBAQDBAcFBAQAAQJ3AAECAxEEBSExBhJBUQdhcRMiMoEIFEKRobHBCSMzUvAVYnLRChYkNOEl8RcYGRomJygpKjU2Nzg5OkNERUZHSElKU1RVVldYWVpjZGVmZ2hpanN0dXZ3eHl6goOEhYaHiImKkpOUlZaXmJmaoqOkpaanqKmqsrO0tba3uLm6wsPExcbHyMnK0tPU1dbX2Nna4uPk5ebn6Onq8vP09fb3+Pn6/9oADAMBAAIRAxEAPwD377Rcf892/wC+V/wo+0XH/Pdv++V/wqOigAW+Z5niS7DSRgF0G0suemRjipPtFx/z3b/vlf8ACsLTreK18SX0VugRBbw8Ducvkk9z7nrVvWItQl01xo9ytvdL8ylkDBv9k56fWgDS+0XH/Pdv++V/wq8YnAybmQD6L/hXO6JFqcWmp/bdys903zNsQKE/2eOtbOtPeR6RO2nQQzzbcFZpTGAv8RBCnJAyQOATxleoAING1az8QWRvNKvLma237Vme3May8A7kLoN6EHh1yp7E1oeS/wDz8Sfkv+FZ/hZYV8H6Mtq7yQCwgEbuu1mXy1wSMnBx2ya1aAIvJf8A5+JPyX/CjyX/AOfiT8l/wqWigCLyX/5+JPyX/CjyX/5+JPyX/CpaKAIvJf8A5+JPyX/CjyX/AOfiT8l/wqWigCLyX/5+JPyX/CjyX/5+JPyX/CpaKAIvJf8A5+JPyX/CjyX/AOfiT8l/wqWigCLyX/5+JPyX/CjyX/5+JPyX/CpaKAIvJf8A5+JPyX/CjyX/AOfiT8l/wqWigCLyX/5+JPyX/CjyX/5+JPyX/CpaKAIvJf8A5+JPyX/CjyX/AOfiT8l/wqWigCLyX/5+JPyX/CjyX/5+JPyX/CpaKAIvJf8A5+JPyX/CjyX/AOfiT8l/wqWigCLyX/5+JPyX/CjyX/5+JPyX/CpaKAIvJf8A5+JPyX/CjyX/AOfiT8l/wqWigCLyX/5+JPyX/CjyX/5+JPyX/CpaKAIvJf8A5+JPyX/CjyX/AOfiT8l/wqWigCLyX/5+JPyX/CjyX/5+JPyX/CpaKAIvJf8A5+JPyX/CjyX/AOfiT8l/wqWigCLyX/5+JPyX/CjyX/5+JPyX/CpaKAIvJf8A5+JPyX/CjyX/AOfiT8l/wqWigCLyX/5+JPyX/CjyX/5+JPyX/CpaKAIvJf8A5+JPyX/CjyX/AOfiT8l/wqWigCLyX/5+JPyX/CjyX/5+JPyX/CpaKAIvJf8A5+JPyX/CjyX/AOfiT8l/wqWigCLyX/5+JPyX/CjyX/5+JPyX/CpaKAIvJf8A5+JPyX/CjyX/AOfiT8l/wqWigCLyX/5+JPyX/CjyX/5+JPyX/CpaKAIvJf8A5+JPyX/CjyX/AOfiT8l/wqWigCLyX/5+JPyX/CipaKAMiiiigCpHpWnQzCWGwtY5FOQ6wqCD9cVbrFVWg8R28Fpc3E5CO94JJS6gH7nB4U56BQOM9quaxf3Gm6a91a2TXpj5aNH2nb3I45+lAF6tZ0WSNkcZVgQR6iuZ0TUbjVdNS7ubFrLzOUR33Er69BiunoAyfDOk3uh6HDpl9fxXyWqrDbSpbeSwhVQqh/mYM/HLAKD/AHRWtRRQAUUVFdwtcWc0McrQvJGyLIvVCRjIxjkUAS0Vz0Ns3hPTr7U9T1O8v4ILGEMjlnOYUIZlBY5Z85PcnGSahsbvWbjxgYNWt4bKNtOZ44re9aYE+Yo3MCiAMM44z35quU19ne7T0OnorB0Dw/faPLE95rl1qQSwhtWWYthpEZi03LH5mDAHv8vU9r+nXeoXNxfpqGmfYY4Lgx2sn2hZPtUe0HzMD7nJI2nn5c96TIkknZO5fooJwM1x/hOG11XxP4h8QvbI85u0trOaeLbcQW4toSYirDfEDI0jbGCk7g2MEEok7CiiigAooooAKKKKACiiigAooooAKKKKACiiigAooooAKKKKACiiigAooooAKKKKACiiigAooooAKKKKACiiigAooooAKKKKACiiigAooooAKKKKACiiigAooooAKKKKAMiiiigDOsdH+wSM0V/dOHcySK4jPmE+p2Z/WtGsqHUJ/wC2UszcWt2CrmQQIVaDGMbvmbrnHareo6naaTa/aNQm8mHdt3lSQD+A9qALVa9c7puq2Wr25n06YTxBtu8KQM/iK6KgAooooAKKKYf9ev8Aunt7igCLULCDVNNuLG8UtBcxtHIFYqcEYOCOQfes/TfDy2Gpf2hPqV/qF2YPIMl06Y2bgR8qKqg8dQAT3zxjYop3ZSlJKyCqGnaX/Z1xfy/br26+23Bn2XU29YPlC7Ixj5U+XOOeSfWr9FIkK53SLO903xjr3mWM0lpqs8d7Heq8flxlbeKExMpbfu/dbshSuG65FTaPceJJbuAa1a2sMBglMpiHKyiXEYHzngx8ng89x0p9l4t0TUbyC2srwyvcFhE4hkEbsoJZBIV27wFJKZ3AA8U7M0dOXTX0Nmism28T6Td6ounw3EhmkLCJmt5FimK8sI5SoRyACcKScA+hw+z8Q6ff6g9nZtczPGzI0q2cvk7lOGAm2+WSCCMBuoI6iizFyTW6NOis6HXtNntILmK53Q3Fy1pE3lsN0qsyFcY4+ZGGTxxVWC/1JPGU2m3ctrLaPaG5h8qBkkTDhdrMXIbr1AWizDketzbornLbxrZ3HiO60n7HqKtAYlWX+zrkqzOWHP7vCKMfeJ2kHOcCtA+IdP8A7XbTI2uZrlHCSGGzlkjjYgEK8iqUQ4IOGI4I9RRysbpzWjRp0Vh3dx4kXVpUs7W1axE9sI3cfMYiT55++OQNuOPXhqu3Ot6faa5Y6RcXGy+v0lktotjHzFjwXOQMDG4dSM54osS42L9FFcvrM2o3HxB0XSrTVrnT7R7C6vJ0t44WM7RS2yqrGRGIXEr527Tz14pEnUUUUUAFFFFABRRRQAUUUUAFFFFABRRRQAUUUUAFFFFABRRRQAUUUUAFFFFABRRRQAUUUUAFFFFABRRRQAUUUUAFFFFABRRRQAUUUUAZFFFFAGabW8u9Qtbi7SCBbVmZfKkMjOSuMZKrgc57549KvTwRXVu8FwiyRSDaysMgiqo1a3OtHTFEhmEe8sF+UdOM+uCD+Iq9QBFbW0NnbR29rGsUUa7VRRwBW5WRWvQAUUUUAFMP/Hwn+63b3FPph/16/wC638xQA+iiigAooprkho8d25/I0AOrJ0TREsNCsLO+iglmsyXR1XIRzuG5SRkHDMM8Hk+ta1FO5Sk0rHDeHfBE+i3emQXNst1a6Yf3F2+t3TMMIyqwtWUxKcNtIDYAJx6VdsNA1O38ULewwW+l2fmySTx22pTTpchgePIZFjjYsQ5decgjncTXWUVTm2ayrzk2319TjLPwxrdt9jsS+n/2fZarJfrN5jmWZXkkk2ldoCEeZjOWzj+Gr4tPEB8aDUmsdNFkITa5F/IZNnmbg+3ycbsD7u7H+1Vw6zdy+Lm0izsI3t7eBJ7y6luNhTzN4RY0CnecxnOSgAIwWOQNilzMTrNu7RgtYarZ+K7jULCKzubS+jgjnE1w8UkPllslQEYPkP0JXkdeeKN7oGpzeKBfadBb6apuI5JruDUpt06LjcHtdgiZmUFNxYkDBB+UCusoo5mJVWnf5BVC5/tf+3LH7H9i/svZL9t83f5+/jy/Lx8uPvbs+2Kv0VJkFcbrmqafpXxY8Ptqd9bWa3Gk30EJuJljEkjT2e1FyRljg4A5OK7KigAooooAKKKKACiiigAooooAKKKKACiiigAooooAKKKKACiiigAooooAKKKKACiiigAooooAKKKKACiiigAooooAKKKKACiiigAooooAyKbJv8p/KCmTadu48Z7Z9qdRQBzdnZajaazY+bbRNiOUzTrMzBmZlLMTsGDxwPTvxWtrGkwa1pr2lzuUH5kdTgo3Yj86li1Kxnn8mC9t5Jef3aSqW468A1ZoAz9E0aDQ9NS1tyznq8jnJdu5rp6yK16ACiiigAph/wCPhP8Adb09R+NPphP79ef4W4z7igB9FFFABTJPvxf73t6Gn0xz88fP8Xr7GgB9FFFABRRTXbYoPHUDk+pxQBzuhxtb+Mtdt5pnupPJtpftMoAcqzTbY8KAu1cHGADzyWPNdJWfLodhNrsOstHKl9DH5QkinkjEic4V1VgsgBZiA4O0sSME1oUAFFFFABRVSXV9NhuWt5tQtY51eONonmUMGkyI1IznLYOB3xxVugbTW4UUUUCCiiigAooooAKKjt7iC7to7i0mjnglUPHLEwZXU9CCOCPepKACiiobi7trVoRdXEUJnkEUQkcL5jkEhVz1OATgc8GgNyaiobS7tr+1jurG4iubeUZSWFw6OPUEcGpqA2CimySJDE0krqkaAszMcBQOpJqrpWq2utael7YecYHPyNNbyQlh6hXUEg9jjB7E0AXKKKKACiiigAooooAKKKKACiiigAooooAKKKKACiiigAooooAKKKKACiiigAooooAKKKKAMiiiigDFtzc6PdWVg8kNxBcNIF2xlJExltx+YgjseB1FXNYi1CXTXGj3K290vzKWQMG/2Tnp9ant7G0tGZrW1hgZvvGOMKT9cVPQBn6JFqcWmp/bdys903zNsQKE/wBnjrXT1kVr0AFFFFABTCf36/7rd/cU+mE/v15/hbjPuKAH0UUUAFMc/PH/AL3r7Gn0xz88fP8AF6+xoAfRRRQAUyU4Qf7y98dxT6ZKcIOcfMvfHcUAPooooAKKKRmCIWbooyaAM+bQdNuL17ua23TySwys+9uWiz5ZxnHGT9e+a0aKxZrXxQ08ht9Y0hIixKK+kysyrngEi5GTjvgfQU99y1727NqvOdT17Xj4su7O21Zre2/tNrJES3iYon2AT5BZTlg44zkfMchuAOp+yeLf+g3ov/gnl/8Akqr8Ok221Jb21sprzcJZZ47YJvl2bC4BLEHb8vJJ28ZxVJpeZrTlCm23Z/15o4KDxL4m1y2tP7OW++0jR7W8xYJZ7JJpkLZlE7htmVwAm0/e+bpjW1ex1G98VeHJptXvtMmngm3QQLbssL+WpYKXjbOec5J6cYrorvw1oWoQW0N/ounXUVqnl28c1ojrCuANqgj5RgDgegqxfaTp2p2a2mpWFrd2ykFYLiFZEBHAIUjHFPmXRFutC6cVbfp/VznPE+q3drKmm6dd6q13b2ZuZnsUs9ypyoeUz4XBKtwgB+U9Biq1hrt/r2n6XLc6t/YkTaJFqd1cW6RDLMPm5lV1VFAJPGeV+YYOenudA0e8a1a70mxnNmALYy2yN5AGMbMj5eg6egp0uh6TPHZxzaXZSJYkG0V7dCLfGMbBj5cYHTHQUuZWJVSmopW19EcNouqTxeBPCemadNqYu5NJS5aPTEtvM8tFRSxa4+QKC44HzEkYwAcuuJr/AMReFvCWqTaxcWks93Csn2ZINjOdwEnzI/PsCV56Hiu1utA0e+ht4b3SbG4itf8AUJNbI6w/7oI+XoOnpU0umWFxp7WE9lby2bjDWzxKYyM55UjHXmnzIr28L3S1v/mYeuXlzptvp+lW99qt3qFyXKvaR2v2mRUwWY+aFiAG5QflzyMDqaZ4SuD4q8KWF9rSGa4tbyYo5IVt8Uskau3lnaW2jnGVyTjjFa83hvQ7nTodPuNG0+WytzmG2e1Ro4zzyqkYHU9PWrtta29nD5NnBFbxbmbZEgVcsSWOB3JJJ9SaV1axm6keSyWt9/vMvUrOLSfB91baXqUOgRwW7+VfShZEtOp3kOcEA84JxWpbEm0hLTC4OxczKABJx94Y4560l3aW1/Zy2l9bxXNtMpSWGZA6Op6gqeCPY1KiLHGqRqERQAqqMAD0AqDFtt3ZheNnvI/BeqGwhjlJtZRLvfBSPY25kXo7gdELIGPBdeta9gEGnWwiJZPKXaSMEjAxRe2kd/p9xZ3GfKuImifacHawwcfgar6LaX1jpUNtqd5DeTRDYJobcwhlHAypducdSCAewHSgRfooooAKKKKACiiigAooooAKKKKACiiigAooooAKKKKACiiigAooooAKKKKACiiigAooooAyKKKKAOe0nUBMbW7vkvVkvGPlyNJiHJBIQIG9AcErzjOTxXQ1n2+jQ28sRE0zxQMWhgcjZGTnkYGTjJAyTjP0rQoAK16yK16ACiiigAph/wBev+6fX1H4U+mH/Xr/ALrfzFAD6KKKACmP9+P/AHvf0NPpj/fj/wB7+hoAfRRRQAUyX7g/3l9fUelPpkv3B/vL/MUAPooooAKZN/qJP909M+ntzT6ZMMwOAM/KeMZ7UAPooooAKKKKAMPW/D93q1xNJb6zdWCyWTWypA7gI5dW80bWHzALt9cE81U1zVPEVr4q0yz0q0sJbW4SUkT3jRmQqoPOIW24zxgnPfFdPWbq2jLqr20yXlzY3VqzNFcW2wsoYYYYdWUgj1HYYqk+5tCaulLbUrzeIV0/UpLXV4orVE083wmWbcrBD++HKjhMoc9w3QYqoPEerzXFlZ22hRi9ubEXjx3F75aQfMAUZgjHPPZSM57c0axpVzq+qaXZvb3P2eykE82oySRhZ1C4MW1TkliQTlQuAcc4pdU0LUNQ8XR3dtqN5ptutg0LT2nklmYyA7SJEftzkAfWq90tKnpexSvfiFbW9ppjILC2uL6Fpiuq6itpHEFIVl3hX3NuOAACMKxyOM3raRvGGl6NrGn389hAC8skMUm4S5R49hZGwQrHcDyDtGPWp5fCtskdkNKvLzSpLKEwRy2rI7NGcEqwlVw3IB3Ebs555Ode2ieC1jiluJLl0XDTShQzn1O0Bc/QAUm1bQUpU0r01r/XyMiVdX8PeCY49Pt5PEeq2dtHGqS3Aga8cYBYu5IUnluSa3Koa5pX9uaJc6b9vvtO+0KF+1afN5U8fIOUfBweMdOhNX6gwbbd2UNV0+bUY7VYL2Wz8i6incxEjzVRsmM4I4boc5Hsa5PxLaXmkaR4c043WramZdYdZvsl40E9wjRXEgTzDKvCnbwXAwg9hXd1l65oS64ll/p11YzWNz9phntfLLB9jpyJEZSNsjdvSu3C4h05KMn7uv32aW2vXoIxLnXZvDWj2kdpot80s6zuINT1HfJH5alyXk3SkggHGC2MgYHOGQ+OruWED+wj9pkvYbaKAXa/dlh81GZtuAQOGUbsc4LcA68/hlLy3gTUtSvbySFJkE8nlKzCVChyERV4B4wB75rK1bwdIGsv7GubqF2v7eWadGiLQpFA0QZQ6lTxtyCD1PHp105YOelRLm11vK17+u1vn8wNG2un8QWWpadq1vJYXVnKI5lsr+QA5VZFZJU2PggjPC8gjkcnO8Pa7c2vwx8O3kiS6jqF7a28UYklwZpXUcu5zgdSW5OAcAnAOvF4dFvp9zDbanew3d3KJbjUAsJnlYALk7oyn3VVcBAABx61VsvBlvZ+GYNE/tPUJobRo2s55DEJbUxgbNpVADjH8QbOSDkHFZqph+Vxb05k7a9mn8m/O9l3Ahm8YT6fDfLq2nRQ3OnGCS7SC78yNLaVivnK7IpO3a5KkD7p55GZ9V8XQaQmq3F1Eq2WmmGJrhpdu+eQgbORhQN8eWJ43HIGKWXSP7K069dbW78Q3uoKIbh5nhR5UAYKG+4oRdx4UZ+YnBJNLpvhWOHwXBoeqTyXcm0PPc7iHeff5nmAnoQ4BX0wB0GKP9kVpNaXS0b20u11Wztffm8gMqz+JNjJY6xNdmwkbS4Y52bTNRS6hkWQlVHmkIFbcpBDAAAqc4PFG98ajXNB1eyguLJLqCOGQT6Nqv2hNjyhSPMVUZGGDkYHBGCecdUPDrT6beWOraxqGqQ3Shf3/kxtFjnKNDGhBzg5OcFRjHOY5vDMt3pV3Yajr+p3iXIXDypbK0JVt2V2QqM5A+8GHFaxqYKM+ZRs011k9NNtNet728rgY91qEPgfXnSS7vp9Kk0u4v5Y7i5e5eJoGjBKNIS3zCTG0tjKjGMnM2i+OhreoT6baDR7i/8AsrXNullqwuI2CsFKyOseY2yy9FYHJwTg1ox+EbOSK+XWLm71iS/tzazS3jKGEJHMaiJUVR1OQAxPUnAxb0rSrrTWb7TrmoamuwKqXiwfLjvmOJCT9SaznVw0qb5lzTXW7V/w17O9rrzAyvBeq+INV0tZ9atbIRFpgJ4btnkZllZQpj8pVAABGd2TgccnEeieOodW8TDRydNkeSGSaJtP1JbooEZQVlUKPLb5xgAsDhueOdGx8MxWAuoI9RvZNPuBKPsEhj8uPzGLMVYIJOpbGXIGfYYh0vwhDpt5ZXT6rqF7LYWz2tt9oMQEUbBMgBI1B/1a8nJ9c0pSwkpVJNLX4bXVt7fpfp2Aj8LT3sus6+upq8dwlxFuhW+a5hjBiUgRZjQqO5GDzk5p3h+E2nijXrRLi6lgjMDolzdST7CysW2l2JAPoOKm0jw1JpWrXN+2u6lfPdYM0dytuEchQqn5IlIIAHQgeuaNL8My6ZrE2ovr+p3r3AUTR3CW4STaCFzsiUjGexHvmlUnSftOWSs4x013Vu68nv39QK+heLG1vXLmxEenwCAyBrdr8m9QI+3c9uYxtU8EHceGU85rpaxrfw6yaxDqF9q9/qL2+828VwsCpCWGCR5casflyPmJHPTOCLcGmeRrd1qP268k+0xon2WSXMEW3PzIuPlJzyc81z1/YOV6eit5vX5+Xl5Acf4TE15rN3cXVlr87Jq18i3p1U/ZFVZ5FVfJ8/oAAuPLxkfjUg+Il6WR/wCwAtuwRzI16MiMz+Qx2hD827BUZwRnJQgA7um+GX0q+lltNc1IW0t1NdNZMtuYi0rs7DPlb8bmJHzZ96h/4QjTfs4h8+62iJYs71zgT+cP4eu7j6e/Nd8q+FnVcqqutLfFotb9d9ttOwFc+ML0NPcNoyLplrqBsZrhrweZnzRGHSPbgrkjOWUjnAbAy64ja0+KOnCG5u/LvdPu5JoHupHiLI0AUiMsVUgM33QOpqLSvCU73F6+s3d01q+qS3cenEwmBv3u+NyQm88gNgvjIGR2q/deFnuvE0GtHXdTilt1aOKBFt/LWNyhdOYixBMa8lsjsRUOWHhNqDS0kurTutO+qer6dgK2oeLbqzXUL6PS45NG0t2S7unuisvyf6xo4ghDBc92UnDYB4zPc+Kfs41iI2Ya8sJIkgg87/j6EoAiYHGVDOWXocbGPNOuvCFrdXF1uvbxbC9k82701WjME7cZJyhcA4GVVgDzkctmJ9KuNU8b2+pz2s1lbadG6DfIh+2ueEfCsfkQNJjdg5fOBgGoj9Ua22V935WW+71Wmiun0AzPEPxKstBv723Y6azaaqteRT6ksE7ZQORBGVPmnawxkoCeAc5w/wAQfEaz0XUbi2jbTX+yQpNMt3qaW0sgYbgsKEHzG28/MUGWUZ642rvw4ZdRnvdN1e/0qS6KtcC0WFlmZVChiJY3wdoA4xkAZ6Ut74dafUpb7T9Y1DS5p1VZ/svkssu3IUlZY3AIBxlcZGM5wMVCeB928emur303stOtrX6XsBX1XRbjXw13Y63d2MVzp/kRrC7rtZnVxKNrj5sDb64J5roaQDCgEk8dT3pa86dWU4qL2WwBRRRWQGRQenFFFAGUbjUYtWtbR5rWYSBnkCW7IUQDrneepIHT19K1apWdnLHf3d3dFWkmYLGFOQkS/dHI6kkk/WrtABWvWRWvQAUUUUAFMP8Ar1/3T29xT6Yf+PhP91u3uKAH0UUUAFMf78f+96exp9Mk+/F/vensaAH0UUUAFMl5Qd/mXt7in0yXlB3+Ze3uKAH0UUUAFFFFAGBdT31l43sE/tB5LHUYpUazljTbE6KrK0bABuRvyGLZ4xtwc79ctrE+n6x400zQ5HgvhbpLc3lkcSLHgJ5TSryAdxBXd1IyPukh2qeI7yD4gaHoWlrbXcVwk8mpoAzS2kYTMUhIOFDP8uGGWz8v3TQB09FFFABRRRQAUUUUAFFFFABRRRQAUUUUAFFFFABRRRQAUUUUAFFFFABRRRQAUUUUAFFFFABRRRQAUUUUAFFFFABRRRQAUUUUAFFFFABRRRQBkUUUHpxQBnQa1DPNAot51iuWKwzsF2SEAnscjIBPIFaNctpltMl7YutvcLdLJJ9rWSErDGDnJQ42jnGNh5Gc5rqaACtesitegAooooAKYf8AXr/ut/MU+mH/AI+E/wB1vT1H40APooooAKY/34/97+hp9Mk+/F/ve3oaAH0UUUAFMl+4P95f5in0yX7g/wB5fT1HrQA+iiigAooooAw7vxXaWerS6e9rdPJFPbQM6Km0mckKeWzgbeeO4xmpLjxLZ22k6zqLxzmHRzILhQo3NsQOdvPPB4zjmtiuC1eK5Gl+LNAFjevd6w8psnS1d4XEsKoC0qgomGBzuIPGcYIzcUmdFOMJu1u3/BO7jcSRq65wwBGadXn/AIksI4/EsFzDZLq15GkEaWt5oc1zGCrf8sbkDZATnlmLAEKTjBqt4v0q4u/E1+2oIv2eSCNbG5OhXGoPBwdxieFwYXDc5wCfl5O3CtRT6jjQUmtd/L+rnpNY2teIZNGureEaLqF8tyyxxy2rQBd5z8h8yVTnC5zjHI5rGl8MQax42ujrlo19af2Lawhp4z5MkglnLHaflLgEEZyV3ds1Jr9zHpKaDp5j1W9aynhkeeOwnuC0aoy7meOMqWzyR15zjBpJK4o048yW5fuvFZt9Wl0+HQ9UvJre2jubj7OIT5KuWABBkBY/u24QN04zkUt54w062trO4gSe9gvbOa8gktgpDJGgcj5mByQ3A9euKypNTOl+O9Uvn07VLiO70y0Ft9nsJX811aclCwXah+dfvlQM8kc1u+F7C40zwxZWt8qpcIhaVEbcEZiWKg9wM4z7UNJDlGEUm12+en6M0bS4W8s4bmNWVJo1kUN1AIzzjvUtYXjCHT59DjTVtJvdWg+2W7C3skZnVxKpSQhWB2q2GPOMA8HpW7UHMZ2qa1BpNxp0M8U0j6hc/ZovKAOG2M/OSOMIemecVmDxpbS6Louo2Wm392dbOLS2iESyf6tpPm3yKo+VD/FXSVyPjq2Sa78Oy3MOoyWkF+73D6ak5ljU20yg5g/eAbmUZHrg8E13YWNGpJQlHXX52Tdrab6denmBrXXiFNP0Q6hqOn3ttJtciyIjkmO0E/wOydBnJbA7kVPc6x5Ol215a6feXzXW3yre2Rd53Lu5LMEUAA8swGcAEkgHHv72ytfAU6WUOsTRzwzQwpNZ3k9wWIb7wdTIBnoW4xjBxioZvE02m+A7S40zStRubzbHapDJp1wvlybQC8ibN/lr1JCnOMDJrRYbmScYO/NbW6X/AAPPX5gaSeLbKTSI71Le6M0ly1mljsUTm4UndFgttyNrHO7bgE5xzT7TxRZ3OnzTy291bT29x9lmspIw86SnBVdqFgcqytkEjackgA45R9Pki0DSbrRZtTkex1F5tQu59MlS5Yyxuss0cMiAk5kGAFYAZADbcHV8Ox22hQ6tqotNQisbqePyVe2nmuZQsaqZHTaZcls/eGcAE4zW1TDUIwbim3fTe+9rfdqtL+nUNmz8RRaj4XtNbsLK8uY7yJJIbZEXzW3dActtHuSwA9arHxjZp4c1DVpbO8jbTZGiurJhH50bjHy8PsOQysCGxhhz2rA8Na5caF8JNP2aPqk+oWNrDbNZtp86N5uAOhTJQdSyhuAcZOAdzwXHDHpdw4e7mvbicz3s9zYS2vmzMBnasiqdoAVRjOAoySc1NXDwo88pR0UrLfVX/BW673enUDV0zVotUkvkhimjNldNav5oA3sFVty4J+X5h1wevFXqDwOmfasjwv4ktPFnh2DWNPhuIIZmkTyrlAskbI7IysASMhlPQmvLk03eKsBr0UUVIBRRRQAUUUUAFFFFABRRRQAUUUUAFFFFABRRRQAUUUUAFFFFABRRRQBkUUUjDKkZIyOo7UARR3trNcPBDcwyTR53xrICy9uR1FTVzcdvdWt5o1gwtt1s7EPExLvGEYFiCBtySM8nJPtXSUAFa9ZFa9ABRRRQAUwn9+vP8LcZ9xT6YT+/X/dbv7igB9FFFABTHPzx8/xevsafTHPzx/73r7GgB9FFFABTJThBzj5l747in0yU4Qf7y98dxQA+iiigAooooAqS6vpsNy1vNqFrHOrxxtE8yhg0mRGpGc5bBwO+OKhfxDosWrDS5dXsE1AsFFo1ygmyRkDZnOSCD070TaDptxevdzW26eSWGVn3ty0WfLOM44yfr3zXC6pBdT614nWeeEaK2s2S3qC3LTKPItiHV920ANszlCQu5gQQMXFJnRTpwm7X6f5HpdU5NY0yHVI9Mm1G0jv5V3R2jTqJXHPITOSOD27GuX1XVNSl/wCEjvItYfSk0E4jgEUbRzgQrLvl3qW2sWK4Rl+6ec9LXiGR5tS8GyyRmJ31Pc0Z6qTaT5H4UcolR7/1pc6qqepavpujQpNq+oWthE7bVe6nWJWPXALEZNcp4g1bX5vEt7p2hrqANnaxyxiyWzKu77sGXz3DFMqBhNp+982cYtaRKZviFeNq0fk6j/ZNqYImYEIpZ/OCcnPz7AxHontRy6XY1RsuaT6Xt1OsR1kRXRgysMhgcgj1pa5a4uLnUfEE+k6dqj6PZ2dhFcxTWkcLedvaRf8AlojLsURjoP4hyKpWet3+uWti1xq50aAaUNQuLq3jiXzMsRuBlV1WMKpY8Z+ZfmwOVysXsXa9zsre4gu7aO4tJo54JVDxyxMGV1PQgjgj3plxfWlo8SXdzDA0xIjWWQKXIBYgZ64AJ+gNeb6LqmqJ4X8IaTpY1BVl0Vbh200WvnMVCLj/AEg7do3ZOATkryBnPZ6dp8uraTpVz4oswup2m59u4Ltcq0ZbCMV5RjxlgN3tTcbbjnRVN3b0/HqbFvcQXdtHcWk0c8Eqh45YmDK6noQRwR71JWBrdpHo/gWWz0nWoPDEVpbpFBqNwqypaKpAGRKcHj5fmPet+oMHa+hDc3ltZrGbu4igEsixRmVwu92OFUZ6kngDqaqzeINGttNXUbjVrGKxZzGt09yixFgSCoYnGcqRj1B9KnvdPttQWEXkXmCCZJ4/mI2upyp4PY9ulQppp0/R2s9CMNmylmiM0bTIhZizErvUnJJ43Dr+FbR9lZc173+Vvxf4CFm1vSrfSk1OfU7OLT3AK3b3CCJgemHJwc/Wmw6/o9xph1GDVbGWxDhDdJcoYgxIUDeDjOSBjPUiuZ0TTbnUPDlxa2d3bQ3tlrU0rXZgMsM8olLswQMhAyxXbuJUqQWYgk6GjXD+KNN1TTvEEVvcixvzbPNa7o4rgpscMo3EqVY7WXcfmQ89h1zw1KHNq3yvX072t19fkB0FteW14shtLiKcRSNFIYnDbHU4ZTjoQeCOoqaq9nYW1gJhaReWJ5mnk5J3Oxyx59asVwS5b+7sBDeWsd9Zy20zSrHKpVjDM8TgezoQyn3BBpmnadZ6RpsGn6ZbR2tpboEihiXaqKOwFWaKkAooooAKKKKACiiigAooooAKKKKACiiigAooooAKKKKACiiigAooooAKKKKAMiig9OKxrCSe31TVEuLiS58mKJ/mOBkqxOFHC9B0/HJ5oA07eytbTf8AZLaGDf8Ae8qMLu+uOtTVyllfT79Ku4pbmf7Q4S6kdz5TM4J2qp4+UjqoA4xknNdXQAVr1kVr0AFFFFABTCf368/wtxn3FPph/wBev+6fX1H4UAPooooAKY5+ePn+L19jT6Y/34/9739DQA+iiigAprgsoA9QeuO9OooAKK5VLey0P4iSPa23kDV7UeatrEWEk6ux82REB25DYMrAA8KWztFdVQAUUUUAFV30+yljukktIHS8/wCPlWiBE/yhfnGPm+UAc9gBViigd2tihc6HpN5eW93d6XZT3Nrj7PNLbozw4ORtYjK4PIxUWoeGdB1a6+06romnXs+0L5tzaRyNgdBlgTitSindjU5LZmfqPh/RtXEQ1bSbG+EIIi+02ySeWDjIXcDjoOnpTr/RNK1W3jt9U0yzvYYjmOO4t1kVDjHAYEDir1FF2HNLuUNQ0PSdXiij1XS7K+jh/wBUtzbpIE+gYHHQdKlvNK0/UZIJNQsLa6e2fzIGnhVzE3HzKSPlPA5HpVqii7Dml3KF3oWkahYxWd/pdldWsJBigmt0dIyBgYUjA4OOKtW1rb2VrHbWcEdvBEu2OKJAqoPQAcAVLRRdi5m1a5XvrCz1Sxks9StILy1lGJILiMSI4znBU5B5FWKKKQgqnqWkabrNusGr6fa38KtvWO6gWVQ2CMgMCM4J596uUVUZSi+aLswKNxomlXemR6bd6ZZz2MQUR2stujRIFGFAQjAx244qzbW0Flax21nBHbwRKFjiiQKqKOgAHAFS0U3OTXK3oAUUUVABRRRQAUUUUAFFFFABRRRQAUUUUAFFFFABRRRQAUUUUAFFFFABRRRQAUUUUAFFFFAGRWfbaUba+ku/t91K8oAkVxHhwAQOiDGM9sVoHp61m6dfXVzqF5b3cUcPkrGyohLEbgeCehPHYfn1oAdbaNBbSRFZpnigLGCByNkROeRgZOASBknANaFZtjf3U+q3NtdQxxLHFHIiqdzDdu4Y9CeO35nrWlQAVr1kVr0AFFFFABTD/r1/3W/mKfTD/r1/3T29xQA+iiigApjj54+P4vT2NPooAKK5XR7jUrf4jaxpN3q1zqFmunW17ClxHCpgaSa4VlUxopK4iXG7J966qgAooooAwbKG+uPGl7f3FhJZ2kNqtrC8siM1w29mZ1VGOExtxuwxJPyjGTvUUUAFFFFABRRRQAUUUUAFFFFABRRRQAUUUUAFFFFABRRRQAUUUUAFFFFABRRRQAUUUUAFFFFABRRRQAUUUUAFFFFABRRRQAUUUUAFFFFABRRRQAUUUUAFFFFAGRWVZW2oxaxc3VxDarHchAwSdmKbQfVBnOfatUnAyap2OqQahPPHbrJ+5CNvddocNnBGeccHqB7ZHNAFa2ttRTW5ruaG1EcyJGQtwxKhd3P3Bn73TitWqMWqo97HbS21xAZt3ktKoAk29cAHI45+YCr1ABWvWRWvQAUUUUAFMP8Ax8J/ut29xT6jm8wQu1vGkkyofLWRtqk9gWAJAJxzg/Q0ASUVl6Bq02safJLd2gs7qC4kt54Vl81Q6MQSr4G5TwQSAcHkA8VqUAFFFFAHFaLqmn6r8X9ebTL62vFt9HsoJjbzLII5Fnu9yNgnDDIyDyM12tFFABRRRQAUUUUAFFFFABRRRQAUUUUAFFFFABRRRQAUUUUAFFFFABRRRQAUUUUAFFFFABRRRQAUUUUAFFFFABRRRQAUUUUAFFFFABRRRQAUUUUAFFFFABRRRQAUUUUAFFFFAGRWLp9yH8Q3z+TdKlwsQjZ7WRQSobPJXjr3rapiTxSSyRJIjSR43oGBKZ5GR2zQBiWlwdQ1pbq7huoRDujtYmtZABnguzbcZIGAM8D3Nb1V4L+zupGjtbuCZ1GWWOQMR9QKsUAFa9ZFX769i06xkurhZ3jiGWW3t3nc844RAWb8AaALFFV7C/tdU0+C+0+dLi1uYxLDLGcq6kZBFWKACiimTRLPBJC5cLIpUlHKMARjhlIIPuCCKAMDwxE7ahrN0s7pC1/LGLRQPLDKRmTJBbc3cbtvAwoOSeiqnpWlWei6etlpsRihVmf5pGdmZmLMzMxLMxYkliSSTkmrlABRRRQAUUUUAFFFFABRRRQAUUUUAFFFFABRRRQAUUUUAFFFFABRRRQAUUUUAFFFFABRRRQAUUUUAFFFFABRRRQAUUUUAFFFFABRRRQAUUUUAFFFFABRRRQAUUUUAFFFFABRRRQAUUUUAZB5FY2lW8Vrr2pw26CONY4MKPo36+9bNVIdK0+3mWW3sLWKRfuukKqR+IFAFK6EsfiLT3uHjlVjKkKRoVZMrkseTuGBjt1HWtioLews7Nma0tYIGbhjFGFJ+uKnoAK16yKv3yXkljIumzwW90R+7luITMinPdAyE8f7QoAxfBDT/wDCNxo0aC0RmFrLvPmSpuPLpjCHPGAzZGDwTtHRVQ0PSxouh2enLO9x9miCNM4AaRu7EDgZOTgcc1foAKKKKACiiigAooooAKKKKACiiigAooooAKKKKACiiigAooooAKKKKACiiigAooooAKKKKACiiigAooooAKKKKACiiigAooooAKKKKACiiigAooooAKKKKACiiigAooooAKKKKACiiigAooooAKKKKAMiuc8K31zfXN+93O8pBXAJ4X5nHA6DhR09KKKAFW8uG+IT2pmf7OtrkRbvlzxzj15610VFFABWvRRQAUUUUAFFFFABRRRQAUUUUAFFFFABRRRQAUUUUAFFFFABRRRQAUUUUAFFFFABRRRQAUUUUAFFFFABRRRQAUUUUAFFFFABRRRQAUUUUAFFFFABRRRQAUUUUAFFFFABRRRQAUUUUAFFFFABRRRQAUUUUAFFFFAH/9k=)"
      ],
      "metadata": {
        "id": "WuyS_Rdh8bAY"
      }
    },
    {
      "cell_type": "code",
      "source": [
        "#serialization using json module\n",
        "#list \n",
        "import json\n",
        "l = [1,2,3,4]\n",
        "with open(\"demo.json\",\"w\") as f:\n",
        "  json.dump(l,f)"
      ],
      "metadata": {
        "id": "4et3Fr9m3v4Q"
      },
      "execution_count": 20,
      "outputs": []
    },
    {
      "cell_type": "code",
      "source": [
        "#dict\n",
        "d = {\n",
        "    \"name\":\"Awaz\",\n",
        "    \"age\":33,\n",
        "     \"gender\":\"male\"\n",
        "}\n",
        "with open(\"deom.json\",\"w\") as f:\n",
        "  json.dump(d,f,indent=4)"
      ],
      "metadata": {
        "id": "yHFXInlU3v0w"
      },
      "execution_count": 21,
      "outputs": []
    },
    {
      "cell_type": "code",
      "source": [
        "#deserialization\n",
        "import json\n",
        "with open(\"deom.json\",\"r\") as f:\n",
        "  d=json.load(f)\n",
        "  print(d)\n",
        "  print(type(d))"
      ],
      "metadata": {
        "colab": {
          "base_uri": "https://localhost:8080/"
        },
        "id": "fKDFLY0G3vx_",
        "outputId": "55982439-3728-4f6c-9a12-b98c37e2b607"
      },
      "execution_count": 27,
      "outputs": [
        {
          "output_type": "stream",
          "name": "stdout",
          "text": [
            "{'name': 'Awaz', 'age': 33, 'gender': 'male'}\n",
            "<class 'dict'>\n"
          ]
        }
      ]
    },
    {
      "cell_type": "code",
      "source": [
        "#with tuple\n",
        "import json\n",
        "t = (1,2,3,4,5)\n",
        "with open(\"demo.json\",\"w\") as f:\n",
        "  json.dump(t,f)"
      ],
      "metadata": {
        "id": "BxbgvUoc3vvc"
      },
      "execution_count": 28,
      "outputs": []
    },
    {
      "cell_type": "markdown",
      "source": [
        "\n",
        "When you use the json.dump() method to convert a tuple to a JSON string, the resulting JSON output will be a list. This is because tuples in Python are represented as arrays in JSON."
      ],
      "metadata": {
        "id": "tS5czXMu_od2"
      }
    },
    {
      "cell_type": "code",
      "source": [
        "with open(\"demo.json\",\"r\") as f:\n",
        "  print(json.load(f))"
      ],
      "metadata": {
        "colab": {
          "base_uri": "https://localhost:8080/"
        },
        "id": "LyJRbueL3vsx",
        "outputId": "134e355b-55cc-425c-b5a9-d9058b1ec4e2"
      },
      "execution_count": 29,
      "outputs": [
        {
          "output_type": "stream",
          "name": "stdout",
          "text": [
            "[1, 2, 3, 4, 5]\n"
          ]
        }
      ]
    },
    {
      "cell_type": "markdown",
      "source": [
        "**Serializing and Deserializing Custom objects**"
      ],
      "metadata": {
        "id": "xO6P62MQCQcE"
      }
    },
    {
      "cell_type": "code",
      "source": [
        "class Person:\n",
        "  def __init__(self,fname,lname,age,gender):\n",
        "    self.fname=fname\n",
        "    self.lname=lname\n",
        "    self.age=age\n",
        "    self.gender=gender\n",
        "#formated to be printed in \n",
        "#name>Awaz Bhujel age>20 gender>male"
      ],
      "metadata": {
        "id": "tzBfbGIWK3X2"
      },
      "execution_count": 39,
      "outputs": []
    },
    {
      "cell_type": "code",
      "source": [
        "person= Person(\"awaz\",\"bhujel\",20,\"male\")"
      ],
      "metadata": {
        "id": "ABB3I2Z9K3a9"
      },
      "execution_count": 40,
      "outputs": []
    },
    {
      "cell_type": "code",
      "source": [
        "def show_object(person):\n",
        "  if isinstance(person,Person):\n",
        "    return \"first_name>{} last_name {} age>{} gender>{}\".format(person.fname,person.lname,person.age,person.gender)\n",
        "\n",
        "with open(\"demo.json\",\"w\") as f:\n",
        "  json.dump(person,f,default=show_object)"
      ],
      "metadata": {
        "id": "Z8BaQzXsK3eF"
      },
      "execution_count": 45,
      "outputs": []
    },
    {
      "cell_type": "code",
      "source": [
        "with open(\"demo.json\",\"r\") as f:\n",
        "  d=json.load(f)\n",
        "  print(d)\n",
        "  print(type(d))"
      ],
      "metadata": {
        "colab": {
          "base_uri": "https://localhost:8080/"
        },
        "id": "5XT1WDpO19I1",
        "outputId": "6c17307c-b3b3-4492-ab1d-eec250ef1153"
      },
      "execution_count": 47,
      "outputs": [
        {
          "output_type": "stream",
          "name": "stdout",
          "text": [
            "first_name>awaz last_name bhujel age>20 gender>male\n",
            "<class 'str'>\n"
          ]
        }
      ]
    },
    {
      "cell_type": "markdown",
      "source": [
        "**Pickling**"
      ],
      "metadata": {
        "id": "z5_-eClaGSeJ"
      }
    },
    {
      "cell_type": "markdown",
      "source": [
        "In programming, pickling is the process of converting a Python object into a stream of bytes (a byte stream) so that it can be stored in a file or transferred over a network. This process is also known as serialization.\n",
        "\n",
        "The opposite of pickling is unpickling, which is the process of converting a byte stream back into a Python object. This process is also known as deserialization.\n",
        "\n",
        "Pickling is useful for a variety of purposes, such as:\n",
        "\n",
        "Saving data to disk for later use\n",
        "Passing data between different programs or different parts of the same program\n",
        "Sending data over a network\n",
        "Caching expensive computations so that they don't need to be recomputed every time they are needed\n",
        "Python provides a built-in module called \"pickle\" that makes it easy to pickle and unpickle Python objects."
      ],
      "metadata": {
        "id": "-Q-n1359Ghhi"
      }
    },
    {
      "cell_type": "code",
      "source": [
        "class Person:\n",
        "  def __init__(self,name,age):\n",
        "    self.name=name\n",
        "    self.age=age\n",
        "  \n",
        "  def display_info(self):\n",
        "    print(\"hi my name is\",self.name,\"i am\",self.age,\"years old\")"
      ],
      "metadata": {
        "id": "8p9leHfi19Ks"
      },
      "execution_count": 48,
      "outputs": []
    },
    {
      "cell_type": "code",
      "source": [
        "p = Person(\"awaz\",20)"
      ],
      "metadata": {
        "id": "uJBLZJSa19O4"
      },
      "execution_count": 49,
      "outputs": []
    },
    {
      "cell_type": "code",
      "source": [
        "#pickle dump\n",
        "import pickle\n",
        "with open(\"person.pkl\",\"wb\") as f:\n",
        "  pickle.dump(p,f)"
      ],
      "metadata": {
        "id": "4iuuHgukK3jB"
      },
      "execution_count": 50,
      "outputs": []
    },
    {
      "cell_type": "code",
      "source": [
        "with open(\"person.pkl\",\"rb\") as f:\n",
        "  p = pickle.load(f)\n",
        "p.display_info()"
      ],
      "metadata": {
        "colab": {
          "base_uri": "https://localhost:8080/"
        },
        "id": "yaHJ20IhK3l6",
        "outputId": "6d3062e2-e863-4d05-a842-07f76eedb77c"
      },
      "execution_count": 51,
      "outputs": [
        {
          "output_type": "stream",
          "name": "stdout",
          "text": [
            "hi my name is awaz i am 20 years old\n"
          ]
        }
      ]
    },
    {
      "cell_type": "markdown",
      "source": [
        "**Pickle Vs Json**\n",
        "\n",
        "pickle lets the user to store data in binary format.JSON lets the user store data in human readable text format"
      ],
      "metadata": {
        "id": "8dWvOUd5IqNU"
      }
    },
    {
      "cell_type": "code",
      "source": [
        "from sklearn import svm\n",
        "from sklearn import datasets\n",
        "\n",
        "# Load a sample dataset\n",
        "iris = datasets.load_iris()\n",
        "X, y = iris.data, iris.target\n",
        "\n",
        "# Train a support vector machine (SVM) model on the data\n",
        "clf = svm.SVC()\n",
        "clf.fit(X, y)\n",
        "# Save the trained model to a file using pickle\n",
        "with open('svm_model.pkl', 'wb') as f:\n",
        "    pickle.dump(clf, f)"
      ],
      "metadata": {
        "id": "Xnu5oWrxK3pI"
      },
      "execution_count": 60,
      "outputs": []
    },
    {
      "cell_type": "code",
      "source": [
        "# Load the pickled model from file\n",
        "with open('svm_model.pkl', 'rb') as f:\n",
        "    clf = pickle.load(f)\n",
        "\n",
        "# Use the model to make predictions\n",
        "y_pred = clf.predict(X)"
      ],
      "metadata": {
        "id": "wyyAy-5qK3r_"
      },
      "execution_count": 55,
      "outputs": []
    },
    {
      "cell_type": "code",
      "source": [],
      "metadata": {
        "id": "vnqCiHK3K3vP"
      },
      "execution_count": null,
      "outputs": []
    },
    {
      "cell_type": "code",
      "source": [],
      "metadata": {
        "id": "hrjVg1lIK4Da"
      },
      "execution_count": null,
      "outputs": []
    },
    {
      "cell_type": "code",
      "source": [],
      "metadata": {
        "id": "pd0flDD4K3_A"
      },
      "execution_count": null,
      "outputs": []
    }
  ]
}